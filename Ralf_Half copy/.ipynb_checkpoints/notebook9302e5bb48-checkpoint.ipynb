{
 "cells": [
  {
   "cell_type": "markdown",
   "metadata": {},
   "source": [
    "# COVID-19 in Russia geo plotting"
   ]
  },
  {
   "cell_type": "markdown",
   "metadata": {},
   "source": [
    "* [Russia regions data notebook](https://www.kaggle.com/kapral42/covid-19-in-russia-regions)"
   ]
  },
  {
   "cell_type": "markdown",
   "metadata": {},
   "source": [
    "# Import"
   ]
  },
  {
   "cell_type": "code",
   "execution_count": 5,
   "metadata": {
    "_cell_guid": "b1076dfc-b9ad-4769-8c92-a6c4dae69d19",
    "_kg_hide-input": true,
    "_uuid": "8f2839f25d086af736a60e9eeb907d3b93b6e0e5"
   },
   "outputs": [],
   "source": [
    "import pandas as pd\n",
    "import geopandas as gpd\n",
    "import numpy as np\n",
    "\n",
    "import folium\n",
    "from folium import Marker\n",
    "from folium.plugins import HeatMap\n",
    "from branca.colormap import linear\n",
    "\n",
    "import geopandas as gpd\n",
    "from geopandas.tools import geocode"
   ]
  },
  {
   "cell_type": "markdown",
   "metadata": {},
   "source": [
    "# Dataset"
   ]
  },
  {
   "cell_type": "markdown",
   "metadata": {},
   "source": [
    "* [Russia dataset](https://www.kaggle.com/kapral42/covid19-russia-regions-cases)"
   ]
  },
  {
   "cell_type": "code",
   "execution_count": null,
   "metadata": {
    "_cell_guid": "79c7e3d0-c299-4dcb-8224-4455121ee9b0",
    "_kg_hide-input": true,
    "_uuid": "d629ff2d2480ee46fbb7e2d37f6b5fab8052498a"
   },
   "outputs": [],
   "source": [
    "rus_df = pd.read_csv('../input/covid19-russia-regions-cases/covid19-russia-cases.csv')\n",
    "rus_other_df = pd.read_csv('../input/covid19-russia-regions-cases/covid19-tests-and-other.csv')\n",
    "rus_info_df = pd.read_csv('../input/covid19-russia-regions-cases/regions-info.csv')\n",
    "rus_vent_df = pd.read_csv('../input/covid19-russia-regions-cases/regions-ventilators.csv')\n",
    "mos_addr_df = pd.read_csv('../input/covid19-russia-regions-cases/moscow_addresses.csv')\n",
    "\n",
    "rus_bnd_gdf = gpd.read_file('../input/russia-geo-data/geo.json')"
   ]
  },
  {
   "cell_type": "code",
   "execution_count": null,
   "metadata": {
    "_kg_hide-input": true,
    "_kg_hide-output": false
   },
   "outputs": [],
   "source": [
    "rus_df = rus_df.rename(columns={\"Region/City\": \"Region\", \"Region/City-Eng\": \"Region_en\", \"Day-Confirmed\": \"DConf\",\n",
    "                   \"Day-Deaths\": \"DDeath\",\"Day-Recovered\": \"DRec\",\"Confirmed\": \"Conf\",\n",
    "                   \"Recovered\": \"Rec\", \"Deaths\": \"Death\"})\n",
    "\n",
    "rus_df.Date = pd.to_datetime(rus_df.Date, dayfirst=True)\n",
    "print('Data date:', rus_df.iloc[-1]['Date'].strftime('%d, %b %Y'))"
   ]
  },
  {
   "cell_type": "code",
   "execution_count": null,
   "metadata": {
    "_kg_hide-input": true
   },
   "outputs": [],
   "source": [
    "# Get current situation in regions\n",
    "rus_df.Date = pd.to_datetime(rus_df.Date, dayfirst=True) \n",
    "rus_df['Act'] = rus_df.Conf - rus_df.Death - rus_df.Rec\n",
    "rus_df['Death_rate'] = rus_df.Death / rus_df.Conf * 100\n",
    "rus_df = rus_df[rus_df.Region != 'Diamond Princess']\n",
    "cases = ['Conf', 'Death', 'Rec', 'Act', 'Death_rate']\n",
    "rus_latest = rus_df.groupby('Region').apply(lambda df: df.loc[df.Date.idxmax()])\n",
    "rus_latest = rus_latest.sort_values(by='Conf', ascending=False).reset_index(drop=True)\n",
    "rus_latest = rus_latest[['Region', 'Region_en', 'Region_ID'] + cases]\n",
    "# rus_latest"
   ]
  },
  {
   "cell_type": "code",
   "execution_count": null,
   "metadata": {
    "_kg_hide-input": true
   },
   "outputs": [],
   "source": [
    "# Align rus_info_df Region to rus_df Region \n",
    "rename_dict = {\n",
    "    'Республика Северная Осетия': 'Республика Северная Осетия - Алания',\n",
    "    'Ямало-Ненецкий автономный округ': 'Ямало-Ненецкий АО',\n",
    "    'Белгородская область': 'Белгород',\n",
    "    'Республика Коми': 'Республика коми',\n",
    "    'Камчатский край' : 'Камчатский край'\n",
    "}\n",
    "\n",
    "def rename(row):\n",
    "    name = row['Region'][0]\n",
    "    return pd.Series(rename_dict[name] if name in rename_dict else name)\n",
    "\n",
    "# rus_info_df.Region = rus_info_df.reset_index().groupby('index').apply(rename).reset_index(drop=True)"
   ]
  },
  {
   "cell_type": "code",
   "execution_count": null,
   "metadata": {
    "_kg_hide-input": true
   },
   "outputs": [],
   "source": [
    "# Prepare Rus geo data\n",
    "\n",
    "# Combining with regions info\n",
    "right = rus_info_df[['Region_ID', 'Population', 'Latitude', 'Longitude']]\n",
    "rus_geo_df = rus_latest.merge(right, left_on='Region_ID', right_on='Region_ID', how='left')\n",
    "\n",
    "# Confirmed per 100K\n",
    "rus_geo_df['Conf_p100k'] = rus_geo_df.Conf / (rus_geo_df.Population / 100000)\n",
    "rus_geo_df = rus_geo_df.drop('Population', axis=1)\n",
    "\n",
    "# rus_geo_df.loc[np.isnan(rus_geo_df.Conf) | np.isnan(rus_geo_df.Latitude)]\n",
    "\n",
    "# Manual fixes\n",
    "rus_geo_df.loc[rus_geo_df.Region == 'Москва', 'Latitude'] = 55.7522\n",
    "rus_geo_df.loc[rus_geo_df.Region == 'Москва', 'Longitude'] = 37.6220\n",
    "rus_geo_df.loc[rus_geo_df.Region == 'Санкт-Петербург', 'Latitude'] = 59.8917\n",
    "rus_geo_df.loc[rus_geo_df.Region == 'Санкт-Петербург', 'Longitude'] = 30.2673\n",
    "\n"
   ]
  },
  {
   "cell_type": "code",
   "execution_count": null,
   "metadata": {
    "_kg_hide-input": true
   },
   "outputs": [],
   "source": [
    "rus_geo_df[['Region_en'] + cases + ['Conf_p100k']].style.background_gradient(cmap='Reds')"
   ]
  },
  {
   "cell_type": "markdown",
   "metadata": {},
   "source": [
    "# Geo Plotting"
   ]
  },
  {
   "cell_type": "code",
   "execution_count": null,
   "metadata": {
    "_kg_hide-input": true
   },
   "outputs": [],
   "source": [
    "def embed_map(m, file_name):\n",
    "    from IPython.display import IFrame\n",
    "    m.save(file_name)\n",
    "    return IFrame(file_name, width='100%', height='500px')"
   ]
  },
  {
   "cell_type": "markdown",
   "metadata": {},
   "source": [
    "**Russia confirmed cases map**"
   ]
  },
  {
   "cell_type": "code",
   "execution_count": null,
   "metadata": {
    "_kg_hide-input": true
   },
   "outputs": [],
   "source": [
    "m_1 = folium.Map(\n",
    "    location=[64.0914, 101.6016],\n",
    "#     tiles='Stamen Toner',\n",
    "    zoom_start=3\n",
    ")\n",
    "\n",
    "max_psize = 150000\n",
    "min_psize = 20000\n",
    "min_val = rus_geo_df.Conf.min()\n",
    "max_val = rus_geo_df.Conf.max()\n",
    "\n",
    "for i in range(len(rus_geo_df)):\n",
    "    radius = min_psize + (rus_geo_df.Conf[i] - min_val) / (max_val - min_val) * (max_psize - min_psize)\n",
    "    folium.Circle(\n",
    "        radius=radius,\n",
    "        location=[rus_geo_df.Latitude[i], rus_geo_df.Longitude[i]],\n",
    "        popup=rus_geo_df.Region_en[i] + ' {}'.format(int(rus_geo_df.Conf[i])),\n",
    "        color='crimson',\n",
    "        fill=True,\n",
    "    ).add_to(m_1)\n",
    "\n",
    "# folium.LatLngPopup().add_to(m_1)\n",
    "\n",
    "embed_map(m_1, 'm_1.html')"
   ]
  },
  {
   "cell_type": "code",
   "execution_count": null,
   "metadata": {
    "_kg_hide-input": true
   },
   "outputs": [],
   "source": [
    "# Regions mapping\n",
    "rus_gdf = gpd.GeoDataFrame(rus_geo_df, geometry=gpd.points_from_xy(rus_geo_df.Longitude, rus_geo_df.Latitude))\n",
    "rus_gdf.crs = {'init': 'epsg:4326'}\n",
    "\n",
    "rus_shape = rus_bnd_gdf[['NAME_1', 'TYPE_1', 'ID_1', 'geometry']]\n",
    "rus_gdf = gpd.sjoin(rus_gdf, rus_shape, how=\"left\", op='within')\n",
    "\n",
    "# rus_gdf.loc[np.isnan(rus_gdf.ID_1)]\n",
    "# rus_gdf.head()"
   ]
  },
  {
   "cell_type": "markdown",
   "metadata": {},
   "source": [
    "**Russia active cases map**"
   ]
  },
  {
   "cell_type": "code",
   "execution_count": null,
   "metadata": {
    "_kg_hide-input": true
   },
   "outputs": [],
   "source": [
    "m_3 = folium.Map(\n",
    "    location=[64.0914, 101.6016],\n",
    "    tiles='Stamen Toner',\n",
    "    zoom_start=3\n",
    ")\n",
    "\n",
    "scale_min, scale_max = np.log(rus_gdf.Act.min() + 1), np.log(rus_gdf.Act.max() + 1)\n",
    "colormap = linear.YlOrRd_09.scale(scale_min, scale_max)\n",
    "\n",
    "def color_mapper(id):\n",
    "    row = rus_gdf[rus_gdf.ID_1 == id].reset_index()\n",
    "    if len(row) == 0:\n",
    "        return scale_min\n",
    "    return np.log(row.Act.iloc[0] + 1)\n",
    "\n",
    "folium.GeoJson(\n",
    "    rus_bnd_gdf,\n",
    "    name='rusjson',\n",
    "    style_function=lambda feature: {\n",
    "        'fillColor': colormap(color_mapper(feature['properties']['ID_1'])),\n",
    "        'color': 'black',\n",
    "        'weight': 1,\n",
    "        'dashArray': '5, 5',\n",
    "        'fillOpacity': 0.9,\n",
    "    }\n",
    ").add_to(m_3)\n",
    "\n",
    "for i in range(len(rus_gdf)):\n",
    "    folium.Circle(\n",
    "        radius=20000,\n",
    "        location=[rus_gdf.Latitude[i], rus_gdf.Longitude[i]],\n",
    "        popup=rus_gdf.Region_en[i] + ' Active: {}'.format(int(rus_gdf.Act[i])),\n",
    "        color='crimson',\n",
    "        fill=True,\n",
    "    ).add_to(m_3)\n",
    "\n",
    "# folium.LatLngPopup().add_to(m_3)\n",
    "\n",
    "# colormap.caption = 'Active cases color scale'\n",
    "# colormap.add_to(m_3)\n",
    "\n",
    "embed_map(m_3, 'm_3.html')"
   ]
  },
  {
   "cell_type": "markdown",
   "metadata": {},
   "source": [
    "Confirmed cases per 100 000 people"
   ]
  },
  {
   "cell_type": "code",
   "execution_count": null,
   "metadata": {
    "_kg_hide-input": true
   },
   "outputs": [],
   "source": [
    "m_4 = folium.Map(\n",
    "    location=[64.0914, 101.6016],\n",
    "    tiles='Stamen Toner',\n",
    "    zoom_start=3\n",
    ")\n",
    "\n",
    "scale_min, scale_max = np.log(rus_gdf.Conf_p100k.min() + 1), np.log(rus_gdf.Conf_p100k.max() + 1)\n",
    "colormap = linear.YlOrRd_09.scale(scale_min, scale_max)\n",
    "\n",
    "def color_mapper(id):\n",
    "    row = rus_gdf[rus_gdf.ID_1 == id].reset_index()\n",
    "    if len(row) == 0:\n",
    "        return scale_min\n",
    "    return np.log(row.Conf_p100k.iloc[0] + 1)\n",
    "\n",
    "folium.GeoJson(\n",
    "    rus_bnd_gdf,\n",
    "    name='rusjson',\n",
    "    style_function=lambda feature: {\n",
    "        'fillColor': colormap(color_mapper(feature['properties']['ID_1'])),\n",
    "        'color': 'black',\n",
    "        'weight': 1,\n",
    "        'dashArray': '5, 5',\n",
    "        'fillOpacity': 0.9,\n",
    "    }\n",
    ").add_to(m_4)\n",
    "\n",
    "for i in range(len(rus_gdf)):\n",
    "    folium.Circle(\n",
    "        radius=20000,\n",
    "        location=[rus_gdf.Latitude[i], rus_gdf.Longitude[i]],\n",
    "        popup=rus_gdf.Region_en[i] + ' Conf. per 100k: {:6.2f}, Conf: {}'.format(rus_gdf.Conf_p100k[i], int(rus_gdf.Conf[i])),\n",
    "        color='crimson',\n",
    "        fill=True,\n",
    "    ).add_to(m_4)\n",
    "\n",
    "\n",
    "embed_map(m_4, 'm_4.html')"
   ]
  },
  {
   "cell_type": "markdown",
   "metadata": {},
   "source": [
    "Death Rate"
   ]
  },
  {
   "cell_type": "code",
   "execution_count": null,
   "metadata": {
    "_kg_hide-input": true
   },
   "outputs": [],
   "source": [
    "m_5 = folium.Map(\n",
    "    location=[64.0914, 101.6016],\n",
    "    tiles='Stamen Toner',\n",
    "    zoom_start=3\n",
    ")\n",
    "\n",
    "scale_min, scale_max = np.log(rus_gdf.Death_rate.min() + 1), np.log(rus_gdf.Death_rate.max() + 1)\n",
    "colormap = linear.YlOrRd_09.scale(scale_min, scale_max)\n",
    "\n",
    "def color_mapper(id):\n",
    "    row = rus_gdf[rus_gdf.ID_1 == id].reset_index()\n",
    "    if len(row) == 0:\n",
    "        return scale_min\n",
    "    return np.log(row.Death_rate.iloc[0] + 1)\n",
    "\n",
    "folium.GeoJson(\n",
    "    rus_bnd_gdf,\n",
    "    name='rusjson',\n",
    "    style_function=lambda feature: {\n",
    "        'fillColor': colormap(color_mapper(feature['properties']['ID_1'])),\n",
    "        'color': 'black',\n",
    "        'weight': 1,\n",
    "        'dashArray': '5, 5',\n",
    "        'fillOpacity': 0.9,\n",
    "    }\n",
    ").add_to(m_5)\n",
    "\n",
    "for i in range(len(rus_gdf)):\n",
    "    folium.Circle(\n",
    "        radius=20000,\n",
    "        location=[rus_gdf.Latitude[i], rus_gdf.Longitude[i]],\n",
    "        popup=rus_gdf.Region_en[i] + ' Death Rate: {:6.2f}, Conf: {}'.format(rus_gdf.Death_rate[i], int(rus_gdf.Conf[i])),\n",
    "        color='crimson',\n",
    "        fill=True,\n",
    "    ).add_to(m_5)\n",
    "\n",
    "\n",
    "embed_map(m_5, 'm_5.html')"
   ]
  },
  {
   "cell_type": "markdown",
   "metadata": {},
   "source": [
    "# Moscow"
   ]
  },
  {
   "cell_type": "markdown",
   "metadata": {},
   "source": [
    "**Moscow places from where people with the COVID-19 were hospitalized**"
   ]
  },
  {
   "cell_type": "code",
   "execution_count": null,
   "metadata": {
    "_kg_hide-input": true
   },
   "outputs": [],
   "source": [
    "m_2 = folium.Map(\n",
    "    location=[55.7522, 37.6220],\n",
    "    tiles='Stamen Toner',\n",
    "    zoom_start=10\n",
    ")\n",
    "\n",
    "for i in range(len(mos_addr_df)):\n",
    "    folium.Circle(\n",
    "        radius=50,\n",
    "        location=[mos_addr_df.Latitude[i], mos_addr_df.Longitude[i]],\n",
    "        popup=mos_addr_df.Address[i],\n",
    "        color='crimson',\n",
    "        fill=True,\n",
    "    ).add_to(m_2)\n",
    "\n",
    "HeatMap(mos_addr_df[['Latitude', 'Longitude']], radius=15).add_to(m_2)\n",
    "    \n",
    "embed_map(m_2, 'm_2.html')"
   ]
  }
 ],
 "metadata": {
  "kernelspec": {
   "display_name": "Python 3",
   "language": "python",
   "name": "python3"
  },
  "language_info": {
   "codemirror_mode": {
    "name": "ipython",
    "version": 3
   },
   "file_extension": ".py",
   "mimetype": "text/x-python",
   "name": "python",
   "nbconvert_exporter": "python",
   "pygments_lexer": "ipython3",
   "version": "3.6.5"
  }
 },
 "nbformat": 4,
 "nbformat_minor": 4
}
